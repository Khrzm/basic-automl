{
 "cells": [
  {
   "cell_type": "code",
   "execution_count": 1,
   "metadata": {},
   "outputs": [],
   "source": [
    "import pandas as pd\n",
    "from sklearn.model_selection import train_test_split\n",
    "from sklearn.metrics import accuracy_score\n",
    "from autosklearn.classification import AutoSklearnClassifier\n"
   ]
  },
  {
   "cell_type": "code",
   "execution_count": 2,
   "metadata": {},
   "outputs": [],
   "source": [
    "# Load your dataset\n",
    "file_path = './dataset_194_eucalyptus.csv'\n",
    "df = pd.read_csv(file_path)"
   ]
  },
  {
   "cell_type": "code",
   "execution_count": 3,
   "metadata": {},
   "outputs": [],
   "source": [
    "# Assuming 'Utility' is the target variable and other columns are features\n",
    "X = df.drop('Utility', axis=1)  # Features\n",
    "y = df['Utility']  # Target variable"
   ]
  },
  {
   "cell_type": "code",
   "execution_count": 4,
   "metadata": {},
   "outputs": [],
   "source": [
    "\n",
    "# Split into train and test sets\n",
    "X_train, X_test, y_train, y_test = train_test_split(X, y, test_size=0.33, random_state=1)"
   ]
  },
  {
   "cell_type": "code",
   "execution_count": 5,
   "metadata": {},
   "outputs": [],
   "source": [
    "# Define the AutoSklearnClassifier\n",
    "model = AutoSklearnClassifier(time_left_for_this_task=2*60, per_run_time_limit=30, n_jobs=8)"
   ]
  },
  {
   "cell_type": "code",
   "execution_count": 6,
   "metadata": {},
   "outputs": [
    {
     "name": "stderr",
     "output_type": "stream",
     "text": [
      "/usr/local/lib/python3.9/dist-packages/autosklearn/data/feature_validator.py:318: UserWarning: Input Column Abbrev has generic type object. Autosklearn will treat this column as string. Please ensure that this setting is suitable for your task.\n",
      "  warnings.warn(\n",
      "/usr/local/lib/python3.9/dist-packages/autosklearn/data/feature_validator.py:318: UserWarning: Input Column Locality has generic type object. Autosklearn will treat this column as string. Please ensure that this setting is suitable for your task.\n",
      "  warnings.warn(\n",
      "/usr/local/lib/python3.9/dist-packages/autosklearn/data/feature_validator.py:318: UserWarning: Input Column Map_Ref has generic type object. Autosklearn will treat this column as string. Please ensure that this setting is suitable for your task.\n",
      "  warnings.warn(\n",
      "/usr/local/lib/python3.9/dist-packages/autosklearn/data/feature_validator.py:318: UserWarning: Input Column Latitude has generic type object. Autosklearn will treat this column as string. Please ensure that this setting is suitable for your task.\n",
      "  warnings.warn(\n",
      "/usr/local/lib/python3.9/dist-packages/autosklearn/data/feature_validator.py:318: UserWarning: Input Column Sp has generic type object. Autosklearn will treat this column as string. Please ensure that this setting is suitable for your task.\n",
      "  warnings.warn(\n",
      "/usr/local/lib/python3.9/dist-packages/autosklearn/data/feature_validator.py:318: UserWarning: Input Column PMCno has generic type object. Autosklearn will treat this column as string. Please ensure that this setting is suitable for your task.\n",
      "  warnings.warn(\n",
      "/usr/local/lib/python3.9/dist-packages/autosklearn/data/feature_validator.py:318: UserWarning: Input Column DBH has generic type object. Autosklearn will treat this column as string. Please ensure that this setting is suitable for your task.\n",
      "  warnings.warn(\n",
      "/usr/local/lib/python3.9/dist-packages/autosklearn/data/feature_validator.py:318: UserWarning: Input Column Ht has generic type object. Autosklearn will treat this column as string. Please ensure that this setting is suitable for your task.\n",
      "  warnings.warn(\n",
      "/usr/local/lib/python3.9/dist-packages/autosklearn/data/feature_validator.py:318: UserWarning: Input Column Surv has generic type object. Autosklearn will treat this column as string. Please ensure that this setting is suitable for your task.\n",
      "  warnings.warn(\n",
      "/usr/local/lib/python3.9/dist-packages/autosklearn/data/feature_validator.py:318: UserWarning: Input Column Vig has generic type object. Autosklearn will treat this column as string. Please ensure that this setting is suitable for your task.\n",
      "  warnings.warn(\n",
      "/usr/local/lib/python3.9/dist-packages/autosklearn/data/feature_validator.py:318: UserWarning: Input Column Ins_res has generic type object. Autosklearn will treat this column as string. Please ensure that this setting is suitable for your task.\n",
      "  warnings.warn(\n",
      "/usr/local/lib/python3.9/dist-packages/autosklearn/data/feature_validator.py:318: UserWarning: Input Column Stem_Fm has generic type object. Autosklearn will treat this column as string. Please ensure that this setting is suitable for your task.\n",
      "  warnings.warn(\n",
      "/usr/local/lib/python3.9/dist-packages/autosklearn/data/feature_validator.py:318: UserWarning: Input Column Crown_Fm has generic type object. Autosklearn will treat this column as string. Please ensure that this setting is suitable for your task.\n",
      "  warnings.warn(\n",
      "/usr/local/lib/python3.9/dist-packages/autosklearn/data/feature_validator.py:318: UserWarning: Input Column Brnch_Fm has generic type object. Autosklearn will treat this column as string. Please ensure that this setting is suitable for your task.\n",
      "  warnings.warn(\n"
     ]
    },
    {
     "name": "stdout",
     "output_type": "stream",
     "text": [
      "[WARNING] [2024-01-07 22:22:41,962:Client-EnsembleBuilder] No runs were available to build an ensemble from\n",
      "[WARNING] [2024-01-07 22:22:42,078:Client-EnsembleBuilder] No runs were available to build an ensemble from\n",
      "[WARNING] [2024-01-07 22:22:42,646:Client-EnsembleBuilder] No runs were available to build an ensemble from\n",
      "[WARNING] [2024-01-07 22:22:44,183:Client-EnsembleBuilder] No runs were available to build an ensemble from\n"
     ]
    },
    {
     "data": {
      "text/plain": [
       "AutoSklearnClassifier(ensemble_class=<class 'autosklearn.ensembles.ensemble_selection.EnsembleSelection'>,\n",
       "                      n_jobs=8, per_run_time_limit=30,\n",
       "                      time_left_for_this_task=120)"
      ]
     },
     "execution_count": 6,
     "metadata": {},
     "output_type": "execute_result"
    }
   ],
   "source": [
    "# Perform the search\n",
    "model.fit(X_train, y_train)"
   ]
  },
  {
   "cell_type": "code",
   "execution_count": 7,
   "metadata": {},
   "outputs": [
    {
     "name": "stdout",
     "output_type": "stream",
     "text": [
      "auto-sklearn results:\n",
      "  Dataset name: 96e4c917-ad70-11ee-b2a2-3c2c30b32ecc\n",
      "  Metric: accuracy\n",
      "  Best validation score: 0.472393\n",
      "  Number of target algorithm runs: 66\n",
      "  Number of successful target algorithm runs: 24\n",
      "  Number of crashed target algorithm runs: 39\n",
      "  Number of target algorithms that exceeded the time limit: 2\n",
      "  Number of target algorithms that exceeded the memory limit: 1\n",
      "\n",
      "Accuracy: 0.506\n"
     ]
    }
   ],
   "source": [
    "# Summarize\n",
    "print(model.sprint_statistics())\n",
    "\n",
    "# Evaluate the best model\n",
    "y_hat = model.predict(X_test)\n",
    "acc = accuracy_score(y_test, y_hat)\n",
    "print(\"Accuracy: %.3f\" % acc)"
   ]
  }
 ],
 "metadata": {
  "kernelspec": {
   "display_name": "Python 3",
   "language": "python",
   "name": "python3"
  },
  "language_info": {
   "codemirror_mode": {
    "name": "ipython",
    "version": 3
   },
   "file_extension": ".py",
   "mimetype": "text/x-python",
   "name": "python",
   "nbconvert_exporter": "python",
   "pygments_lexer": "ipython3",
   "version": "3.9.2"
  }
 },
 "nbformat": 4,
 "nbformat_minor": 2
}
