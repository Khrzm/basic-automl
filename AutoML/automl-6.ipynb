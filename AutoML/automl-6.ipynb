{
 "cells": [
  {
   "cell_type": "code",
   "execution_count": 2,
   "metadata": {},
   "outputs": [
    {
     "data": {
      "image/png": "[encoded data removed]",
      "text/plain": [
       "<Figure size 800x500 with 1 Axes>"
      ]
     },
     "metadata": {},
     "output_type": "display_data"
    },
    {
     "name": "stdout",
     "output_type": "stream",
     "text": [
      "[WARNING] [2024-01-07 22:42:06,475:Client-EnsembleBuilder] No runs were available to build an ensemble from\n",
      "[WARNING] [2024-01-07 22:42:06,651:Client-EnsembleBuilder] No runs were available to build an ensemble from\n",
      "[WARNING] [2024-01-07 22:42:07,190:Client-EnsembleBuilder] No runs were available to build an ensemble from\n",
      "[WARNING] [2024-01-07 22:42:08,070:Client-EnsembleBuilder] No runs were available to build an ensemble from\n",
      "auto-sklearn results:\n",
      "  Dataset name: 4d9475c5-ad73-11ee-a233-3c2c30b32ecc\n",
      "  Metric: accuracy\n",
      "  Best validation score: 0.601227\n",
      "  Number of target algorithm runs: 175\n",
      "  Number of successful target algorithm runs: 118\n",
      "  Number of crashed target algorithm runs: 51\n",
      "  Number of target algorithms that exceeded the time limit: 2\n",
      "  Number of target algorithms that exceeded the memory limit: 4\n",
      "\n",
      "Error getting feature importances: All arrays must be of the same length\n",
      "Accuracy: 0.638\n"
     ]
    }
   ],
   "source": [
    "import pandas as pd\n",
    "from sklearn.model_selection import train_test_split\n",
    "from sklearn.metrics import accuracy_score\n",
    "from sklearn.preprocessing import LabelEncoder, OneHotEncoder, StandardScaler\n",
    "from autosklearn.classification import AutoSklearnClassifier\n",
    "from sklearn.compose import ColumnTransformer\n",
    "from sklearn.pipeline import Pipeline\n",
    "import matplotlib.pyplot as plt\n",
    "import seaborn as sns\n",
    "\n",
    "# Load your dataset\n",
    "file_path = './dataset_194_eucalyptus.csv'\n",
    "df = pd.read_csv(file_path)\n",
    "\n",
    "# Visualize the distribution of the target variable\n",
    "plt.figure(figsize=(8, 5))\n",
    "sns.countplot(x='Utility', data=df)\n",
    "plt.title('Distribution of Utility')\n",
    "plt.show()\n",
    "\n",
    "# Assuming 'Utility' is the target variable and other columns are features\n",
    "X = df.drop('Utility', axis=1)  # Features\n",
    "y = df['Utility']  # Target variable\n",
    "\n",
    "# Convert target variable to numerical using LabelEncoder\n",
    "y = LabelEncoder().fit_transform(y.astype('str'))\n",
    "\n",
    "# Split into train and test sets\n",
    "X_train, X_test, y_train, y_test = train_test_split(X, y, test_size=0.33, random_state=1)\n",
    "\n",
    "# Preprocessing: Define the ColumnTransformer\n",
    "categorical_cols = X.select_dtypes(include=['object']).columns\n",
    "numeric_cols = X.select_dtypes(exclude=['object']).columns\n",
    "\n",
    "preprocessor = ColumnTransformer(\n",
    "    transformers=[\n",
    "        ('num', StandardScaler(), numeric_cols),\n",
    "        ('cat', OneHotEncoder(handle_unknown='ignore'), categorical_cols)\n",
    "    ])\n",
    "\n",
    "# Define the AutoSklearnClassifier\n",
    "model = AutoSklearnClassifier(time_left_for_this_task=5*60, per_run_time_limit=30, n_jobs=8)\n",
    "\n",
    "# Create a pipeline with the preprocessor and the AutoSklearn model\n",
    "pipeline = Pipeline(steps=[('preprocessor', preprocessor),\n",
    "                             ('model', model)])\n",
    "\n",
    "# Perform the search\n",
    "pipeline.fit(X_train, y_train)\n",
    "\n",
    "# Summarize\n",
    "print(pipeline.named_steps['model'].sprint_statistics())\n",
    "\n",
    "# Visualize the feature importance (if available)\n",
    "try:\n",
    "    importances = pipeline.named_steps['model'].get_models_with_weights()[1]\n",
    "    feature_names = list(X.columns)\n",
    "    feature_importance = pd.DataFrame({'Feature': feature_names, 'Importance': importances})\n",
    "    feature_importance = feature_importance.sort_values(by='Importance', ascending=False)\n",
    "\n",
    "    plt.figure(figsize=(10, 6))\n",
    "    sns.barplot(x='Importance', y='Feature', data=feature_importance)\n",
    "    plt.title('Feature Importance')\n",
    "    plt.show()\n",
    "except Exception as e:\n",
    "    print(f\"Error getting feature importances: {e}\")\n",
    "\n",
    "# Evaluate the best model\n",
    "y_hat = pipeline.predict(X_test)\n",
    "acc = accuracy_score(y_test, y_hat)\n",
    "print(\"Accuracy: %.3f\" % acc)\n"
   ]
  }
 ],
 "metadata": {
  "kernelspec": {
   "display_name": "Python 3",
   "language": "python",
   "name": "python3"
  },
  "language_info": {
   "codemirror_mode": {
    "name": "ipython",
    "version": 3
   },
   "file_extension": ".py",
   "mimetype": "text/x-python",
   "name": "python",
   "nbconvert_exporter": "python",
   "pygments_lexer": "ipython3",
   "version": "3.9.2"
  }
 },
 "nbformat": 4,
 "nbformat_minor": 2
}
